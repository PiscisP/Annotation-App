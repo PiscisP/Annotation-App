{
 "cells": [
  {
   "cell_type": "code",
   "execution_count": 16,
   "metadata": {},
   "outputs": [],
   "source": [
    "import os\n",
    "from collections import defaultdict\n",
    "import pandas as pd"
   ]
  },
  {
   "cell_type": "code",
   "execution_count": 2,
   "metadata": {},
   "outputs": [],
   "source": [
    "# 设置文件夹路径\n",
    "question_dir = 'D:\\\\VQA\\\\validation\\\\Questions'\n",
    "answers_dir = 'D:\\\\VQA\\\\validation\\\\Answers'\n",
    "\n",
    "# 调整Pandas显示设置\n",
    "pd.set_option('display.max_rows', None)  # 显示所有行\n",
    "pd.set_option('display.max_columns', None)  # 显示所有列\n",
    "pd.set_option('display.max_colwidth', None)  # 显示完整列内容\n",
    "pd.set_option('display.width', 1000)  # 设置显示宽度\n"
   ]
  },
  {
   "cell_type": "code",
   "execution_count": 17,
   "metadata": {},
   "outputs": [
    {
     "name": "stdout",
     "output_type": "stream",
     "text": [
      "Question Counts:\n",
      "                                             Question  Count\n",
      "15  How many cars are waiting to turn left in the ...      6\n",
      "44  Are there many cars driving on the road right ...      5\n",
      "20  How many pedestrians are crossing the zebra cr...      5\n",
      "14  How many cars are going straight from left to ...      3\n",
      "2   How many people, including pedestrians, motorc...      3\n",
      "..                                                ...    ...\n",
      "34  How many cars are going straight in the right-...      1\n",
      "35  How many vehicles are waiting to turn left in ...      1\n",
      "36  Do you think there are many cars in the opposi...      1\n",
      "38     Are there any motorcycles crossing the street?      1\n",
      "64  How many vehicles are making U-turns in the bo...      1\n",
      "\n",
      "[65 rows x 2 columns]\n",
      "No decoding errors found.\n"
     ]
    }
   ],
   "source": [
    "def count_questions(directory):\n",
    "    question_counts = defaultdict(int)\n",
    "    error_files = []  # 用来收集出现解码错误的文件列表\n",
    "    \n",
    "    # 检查目录是否存在\n",
    "    if not os.path.exists(directory):\n",
    "        print(f\"Directory does not exist: {directory}\")\n",
    "        return pd.DataFrame(), pd.DataFrame()\n",
    "    \n",
    "    # 遍历指定目录下的所有文件\n",
    "    for filename in os.listdir(directory):\n",
    "        file_path = os.path.join(directory, filename)\n",
    "        # 确保是文件而非目录\n",
    "        if os.path.isfile(file_path):\n",
    "            try:\n",
    "                with open(file_path, 'r', encoding='utf-8') as file:\n",
    "                    content = file.read().strip()  # 读取整个文件内容作为一个问题\n",
    "                    question_counts[content] += 1\n",
    "            except UnicodeDecodeError as e:\n",
    "                # 添加到错误文件列表\n",
    "                error_files.append((filename, str(e)))\n",
    "\n",
    "    # 转换结果为DataFrame\n",
    "    questions_df = pd.DataFrame(list(question_counts.items()), columns=['Question', 'Count'])\n",
    "    error_files_df = pd.DataFrame(error_files, columns=['File', 'Error'])\n",
    "\n",
    "    return questions_df, error_files_df\n",
    "\n",
    "# 调用函数并打印结果\n",
    "results_df, errors_df = count_questions(question_dir)\n",
    "\n",
    "if not results_df.empty:\n",
    "    print(\"Question Counts:\")\n",
    "    print(results_df.sort_values(by='Count', ascending=False))\n",
    "else:\n",
    "    print(\"No data found or directory is empty.\")\n",
    "\n",
    "if not errors_df.empty:\n",
    "    print(\"\\nError Files:\")\n",
    "    print(errors_df)\n",
    "else:\n",
    "    print(\"No decoding errors found.\")"
   ]
  },
  {
   "cell_type": "code",
   "execution_count": 12,
   "metadata": {},
   "outputs": [
    {
     "name": "stdout",
     "output_type": "stream",
     "text": [
      "Matching Files:\n",
      "148709_sj8fas2e152d20211124air_420_1637216131_1637218737_129_obstacle.txt\n",
      "148709_sj8fas2e152d20211124air_420_1637216131_1637218737_31_obstacle.txt\n",
      "148709_sj8fas2e152d20211124air_420_1637216131_1637218737_94_obstacle.txt\n"
     ]
    }
   ],
   "source": [
    "#检查问题在哪些文件中出现\n",
    "def find_files_by_question(directory, target_question):\n",
    "    # 问题\n",
    "    target_question = \"Where are pedestrians crossing the road?\"\n",
    "\n",
    "    matching_files = []\n",
    "    # 检查目录是否存在\n",
    "    if not os.path.exists(directory):\n",
    "        print(f\"Directory does not exist: {directory}\")\n",
    "        return matching_files\n",
    "    \n",
    "    # 遍历指定目录下的所有文件\n",
    "    for filename in os.listdir(directory):\n",
    "        file_path = os.path.join(directory, filename)\n",
    "        # 确保是文件而非目录\n",
    "        if os.path.isfile(file_path):\n",
    "            try:\n",
    "                with open(file_path, 'r', encoding='utf-8') as file:\n",
    "                    content = file.read().strip()  # 读取整个文件内容\n",
    "                    if content == target_question:  # 比较文件内容与目标问题\n",
    "                        matching_files.append(filename)\n",
    "            except UnicodeDecodeError:\n",
    "                print(f\"Could not decode file {file_path} using UTF-8.\")\n",
    "\n",
    "    return matching_files\n",
    "\n",
    "# 调用函数并打印结果\n",
    "matching_files = find_files_by_question(question_dir, target_question)\n",
    "if matching_files:\n",
    "    print(\"Matching Files:\")\n",
    "    for file in matching_files:\n",
    "        print(file)\n",
    "else:\n",
    "    print(\"No files match the provided question.\")"
   ]
  },
  {
   "cell_type": "code",
   "execution_count": 10,
   "metadata": {},
   "outputs": [
    {
     "name": "stdout",
     "output_type": "stream",
     "text": [
      "Matching Files:\n",
      "148709_sj8fas2e152d20211124air_420_1637216131_1637218737_31_obstacle.txt\n",
      "\n",
      "Modified Files:\n",
      "148709_sj8fas2e152d20211124air_420_1637216131_1637218737_31_obstacle.txt\n"
     ]
    }
   ],
   "source": [
    "#替换问题\n",
    "def find_and_replace_in_files(directory, target_question, new_content):\n",
    "    # 输入问题和新内容\n",
    "    target_question = \"Where are pedestrians crossing the road\"\n",
    "    new_content = \"Where are pedestrians crossing the road?\"\n",
    "\n",
    "    matching_files = []\n",
    "    modified_files = []\n",
    "\n",
    "    # 检查目录是否存在\n",
    "    if not os.path.exists(directory):\n",
    "        print(f\"Directory does not exist: {directory}\")\n",
    "        return matching_files, modified_files\n",
    "\n",
    "    # 遍历指定目录下的所有文件\n",
    "    for filename in os.listdir(directory):\n",
    "        file_path = os.path.join(directory, filename)\n",
    "        # 确保是文件而非目录\n",
    "        if os.path.isfile(file_path):\n",
    "            try:\n",
    "                with open(file_path, 'r', encoding='utf-8') as file:\n",
    "                    content = file.read().strip()  # 读取整个文件内容\n",
    "                    if content == target_question:  # 比较文件内容与目标问题\n",
    "                        matching_files.append(filename)\n",
    "\n",
    "                        # 替换文件内容\n",
    "                        with open(file_path, 'w', encoding='utf-8') as file_to_write:\n",
    "                            file_to_write.write(new_content)\n",
    "                            modified_files.append(filename)\n",
    "            except UnicodeDecodeError:\n",
    "                print(f\"Could not decode file {file_path} using UTF-8.\")\n",
    "            except IOError as e:\n",
    "                print(f\"Error while writing to file {file_path}: {e}\")\n",
    "\n",
    "    return matching_files, modified_files\n",
    "\n",
    "# 调用函数并打印结果\n",
    "matching_files, modified_files = find_and_replace_in_files(question_dir, target_question, new_content)\n",
    "if matching_files:\n",
    "    print(\"Matching Files:\")\n",
    "    for file in matching_files:\n",
    "        print(file)\n",
    "    print(\"\\nModified Files:\")\n",
    "    for file in modified_files:\n",
    "        print(file)\n",
    "else:\n",
    "    print(\"No files match the provided question.\")"
   ]
  }
 ],
 "metadata": {
  "kernelspec": {
   "display_name": "Python (CUDA)",
   "language": "python",
   "name": "myenv"
  },
  "language_info": {
   "codemirror_mode": {
    "name": "ipython",
    "version": 3
   },
   "file_extension": ".py",
   "mimetype": "text/x-python",
   "name": "python",
   "nbconvert_exporter": "python",
   "pygments_lexer": "ipython3",
   "version": "3.8.18"
  }
 },
 "nbformat": 4,
 "nbformat_minor": 2
}
